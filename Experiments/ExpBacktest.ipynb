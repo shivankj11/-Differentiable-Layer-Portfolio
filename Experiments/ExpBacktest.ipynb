{
 "cells": [
  {
   "cell_type": "code",
   "execution_count": 13,
   "metadata": {},
   "outputs": [
    {
     "name": "stderr",
     "output_type": "stream",
     "text": [
      "[33612:MainThread](2023-11-21 11:16:59,900) INFO - qlib.Initialization - [config.py:417] - default_conf: client.\n",
      "[33612:MainThread](2023-11-21 11:16:59,902) INFO - qlib.Initialization - [__init__.py:74] - qlib successfully initialized based on client settings.\n",
      "[33612:MainThread](2023-11-21 11:16:59,903) INFO - qlib.Initialization - [__init__.py:76] - data_path={'__DEFAULT_FREQ': PosixPath('/home/codespace/.qlib/qlib_data/cn_data')}\n"
     ]
    },
    {
     "name": "stdout",
     "output_type": "stream",
     "text": [
      "The autoreload extension is already loaded. To reload it, use:\n",
      "  %reload_ext autoreload\n",
      "['/workspaces/Portfolio-Leveraging-Differentiable-Layer/qlib', '/workspaces/Portfolio-Leveraging-Differentiable-Layer/qlib', '/workspaces/Portfolio-Leveraging-Differentiable-Layer/qlib', '/workspaces/Portfolio-Leveraging-Differentiable-Layer/experiment', '/opt/conda/envs/qlib/lib/python38.zip', '/opt/conda/envs/qlib/lib/python3.8', '/opt/conda/envs/qlib/lib/python3.8/lib-dynload', '', '/opt/conda/envs/qlib/lib/python3.8/site-packages', '/opt/conda/envs/qlib/lib/python3.8/site-packages/pyqlib-0.9.1.99-py3.8-linux-x86_64.egg', '/opt/conda/envs/qlib/lib/python3.8/site-packages/protobuf-3.20.1-py3.8.egg', '/opt/conda/envs/qlib/lib/python3.8/site-packages/gym-0.26.2-py3.8.egg', '/opt/conda/envs/qlib/lib/python3.8/site-packages/Jinja2-3.0.3-py3.8.egg', '/opt/conda/envs/qlib/lib/python3.8/site-packages/filelock-3.13.1-py3.8.egg', '/opt/conda/envs/qlib/lib/python3.8/site-packages/dill-0.3.7-py3.8.egg', '/opt/conda/envs/qlib/lib/python3.8/site-packages/scikit_learn-1.3.2-py3.8-linux-x86_64.egg', '/opt/conda/envs/qlib/lib/python3.8/site-packages/pymongo-3.7.2-py3.8-linux-x86_64.egg', '/opt/conda/envs/qlib/lib/python3.8/site-packages/ruamel.yaml-0.18.5-py3.8.egg', '/opt/conda/envs/qlib/lib/python3.8/site-packages/joblib-1.3.2-py3.8.egg', '/opt/conda/envs/qlib/lib/python3.8/site-packages/tornado-6.4b1-py3.8-linux-x86_64.egg', '/opt/conda/envs/qlib/lib/python3.8/site-packages/lightgbm-4.1.0-py3.8-linux-x86_64.egg', '/opt/conda/envs/qlib/lib/python3.8/site-packages/loguru-0.7.2-py3.8.egg', '/opt/conda/envs/qlib/lib/python3.8/site-packages/tqdm-4.66.1-py3.8.egg', '/opt/conda/envs/qlib/lib/python3.8/site-packages/mlflow-1.30.0-py3.8.egg', '/opt/conda/envs/qlib/lib/python3.8/site-packages/PyYAML-6.0.1-py3.8-linux-x86_64.egg', '/opt/conda/envs/qlib/lib/python3.8/site-packages/plotly-5.18.0-py3.8.egg', '/opt/conda/envs/qlib/lib/python3.8/site-packages/xlrd-2.0.1-py3.8.egg', '/opt/conda/envs/qlib/lib/python3.8/site-packages/fire-0.5.0-py3.8.egg', '/opt/conda/envs/qlib/lib/python3.8/site-packages/hyperopt-0.1.2-py3.8.egg', '/opt/conda/envs/qlib/lib/python3.8/site-packages/cvxpy-1.4.1-py3.8-linux-x86_64.egg', '/opt/conda/envs/qlib/lib/python3.8/site-packages/schedule-1.2.1-py3.8.egg', '/opt/conda/envs/qlib/lib/python3.8/site-packages/python_redis_lock-4.0.0-py3.8.egg', '/opt/conda/envs/qlib/lib/python3.8/site-packages/redis-5.1.0a1-py3.8.egg', '/opt/conda/envs/qlib/lib/python3.8/site-packages/python_socketio-5.10.0-py3.8.egg', '/opt/conda/envs/qlib/lib/python3.8/site-packages/sacred-0.8.5-py3.8.egg', '/opt/conda/envs/qlib/lib/python3.8/site-packages/numpy-1.23.5-py3.8-linux-x86_64.egg', '/opt/conda/envs/qlib/lib/python3.8/site-packages/gym_notices-0.0.8-py3.8.egg', '/opt/conda/envs/qlib/lib/python3.8/site-packages/ruamel.yaml.clib-0.2.8-py3.8-linux-x86_64.egg', '/opt/conda/envs/qlib/lib/python3.8/site-packages/SQLAlchemy-1.4.50-py3.8-linux-x86_64.egg', '/opt/conda/envs/qlib/lib/python3.8/site-packages/prometheus_flask_exporter-0.23.0-py3.8.egg', '/opt/conda/envs/qlib/lib/python3.8/site-packages/packaging-21.3-py3.8.egg', '/opt/conda/envs/qlib/lib/python3.8/site-packages/pytz-2022.7.1-py3.8.egg', '/opt/conda/envs/qlib/lib/python3.8/site-packages/blosc2-2.0.0-py3.8-linux-x86_64.egg', '/opt/conda/envs/qlib/lib/python3.8/site-packages/fonttools-4.45.0-py3.8.egg', '/opt/conda/envs/qlib/lib/python3.8/site-packages/tenacity-8.2.3-py3.8.egg', '/opt/conda/envs/qlib/lib/python3.8/site-packages/termcolor-2.3.0-py3.8.egg', '/opt/conda/envs/qlib/lib/python3.8/site-packages/future-0.18.3-py3.8.egg', '/opt/conda/envs/qlib/lib/python3.8/site-packages/networkx-3.2.1-py3.8.egg', '/opt/conda/envs/qlib/lib/python3.8/site-packages/scs-3.2.4-py3.8-linux-x86_64.egg', '/opt/conda/envs/qlib/lib/python3.8/site-packages/clarabel-0.6.0-py3.8-linux-x86_64.egg', '/opt/conda/envs/qlib/lib/python3.8/site-packages/ecos-2.0.12-py3.8-linux-x86_64.egg', '/opt/conda/envs/qlib/lib/python3.8/site-packages/osqp-1.0.0b1-py3.8-linux-x86_64.egg', '/opt/conda/envs/qlib/lib/python3.8/site-packages/async_timeout-4.0.3-py3.8.egg', '/opt/conda/envs/qlib/lib/python3.8/site-packages/python_engineio-4.8.0-py3.8.egg', '/opt/conda/envs/qlib/lib/python3.8/site-packages/bidict-0.22.1-py3.8.egg', '/opt/conda/envs/qlib/lib/python3.8/site-packages/colorama-0.4.6-py3.8.egg', '/opt/conda/envs/qlib/lib/python3.8/site-packages/wrapt-1.16.0-py3.8.egg', '/opt/conda/envs/qlib/lib/python3.8/site-packages/munch-4.0.0-py3.8.egg', '/opt/conda/envs/qlib/lib/python3.8/site-packages/jsonpickle-3.0.2-py3.8.egg', '/opt/conda/envs/qlib/lib/python3.8/site-packages/docopt-0.6.2-py3.8.egg', '/opt/conda/envs/qlib/lib/python3.8/site-packages/prometheus_client-0.18.0-py3.8.egg', '/opt/conda/envs/qlib/lib/python3.8/site-packages/qdldl-0.1.7.post0-py3.8-linux-x86_64.egg', '/opt/conda/envs/qlib/lib/python3.8/site-packages/simple_websocket-1.0.0-py3.8.egg', '/opt/conda/envs/qlib/lib/python3.8/site-packages/wsproto-1.2.0-py3.8.egg', '/opt/conda/envs/qlib/lib/python3.8/site-packages/h11-0.14.0-py3.8.egg', '/opt/conda/envs/qlib/lib/python3.8/site-packages/pyqlib-0.9.3.99-py3.8-linux-x86_64.egg']\n",
      "qlib: ['/workspaces/Portfolio-Leveraging-Differentiable-Layer/qlib/qlib']\n"
     ]
    }
   ],
   "source": [
    "\n",
    "# find model from record of qlib\n",
    "%load_ext autoreload\n",
    "%autoreload 2\n",
    "import sys\n",
    "print(sys.path)\n",
    "sys.path.insert(0, \"/workspaces/Portfolio-Leveraging-Differentiable-Layer/qlib\")\n",
    "\n",
    "import qlib\n",
    "print(\"qlib:\",qlib.__path__)\n",
    "\n",
    "qlib.init()"
   ]
  },
  {
   "cell_type": "markdown",
   "metadata": {},
   "source": [
    "## load the experiment you conducted before "
   ]
  },
  {
   "cell_type": "code",
   "execution_count": 14,
   "metadata": {},
   "outputs": [
    {
     "data": {
      "text/plain": [
       "{'ExpQuickStartGRU': MLflowExperiment(id=466892454790696298, info={'class': 'Experiment', 'id': '466892454790696298', 'name': 'ExpQuickStartGRU', 'active_recorder': None, 'recorders': ['05eee8f1acc94d1280152e884d344dad']}),\n",
       " 'Default': MLflowExperiment(id=0, info={'class': 'Experiment', 'id': '0', 'name': 'Default', 'active_recorder': None, 'recorders': []})}"
      ]
     },
     "execution_count": 14,
     "metadata": {},
     "output_type": "execute_result"
    }
   ],
   "source": [
    "from qlib.workflow import R\n",
    "from qlib.workflow.record_temp import SignalRecord, PortAnaRecord, SigAnaRecord\n",
    "R.list_experiments()"
   ]
  },
  {
   "cell_type": "markdown",
   "metadata": {},
   "source": [
    "## Find the recorder that corresponding to your prediction result/model"
   ]
  },
  {
   "cell_type": "code",
   "execution_count": 15,
   "metadata": {},
   "outputs": [],
   "source": [
    "EXP_NAME =\"ExpQuickStartGRU\"\n",
    "rid = \"05eee8f1acc94d1280152e884d344dad\"\n",
    "rec = R.get_recorder(experiment_name=EXP_NAME,recorder_id=rid)"
   ]
  },
  {
   "cell_type": "markdown",
   "metadata": {},
   "source": [
    "### load prediction result from your record"
   ]
  },
  {
   "cell_type": "code",
   "execution_count": 16,
   "metadata": {},
   "outputs": [],
   "source": [
    "pred = rec.load_object(\"pred.pkl\")"
   ]
  },
  {
   "cell_type": "markdown",
   "metadata": {},
   "source": []
  },
  {
   "cell_type": "markdown",
   "metadata": {},
   "source": [
    "### run backtest based on pred"
   ]
  },
  {
   "cell_type": "code",
   "execution_count": 18,
   "metadata": {},
   "outputs": [
    {
     "name": "stderr",
     "output_type": "stream",
     "text": [
      "[33612:MainThread](2023-11-21 11:31:44,240) INFO - qlib.workflow - [exp.py:258] - Experiment 466892454790696298 starts running ...\n",
      "[33612:MainThread](2023-11-21 11:31:44,250) INFO - qlib.workflow - [recorder.py:341] - Recorder 05eee8f1acc94d1280152e884d344dad starts running under Experiment 466892454790696298 ...\n",
      "Exception in thread Thread-13:\n",
      "Traceback (most recent call last):\n",
      "  File \"/opt/conda/envs/qlib/lib/python3.8/site-packages/mlflow/tracking/_tracking_service/client.py\", line 297, in log_param\n",
      "    self.store.log_param(run_id, param)\n",
      "  File \"/opt/conda/envs/qlib/lib/python3.8/site-packages/mlflow/store/tracking/file_store.py\", line 949, in log_param\n",
      "    self._log_run_param(run_info, param)\n",
      "  File \"/opt/conda/envs/qlib/lib/python3.8/site-packages/mlflow/store/tracking/file_store.py\", line 955, in _log_run_param\n",
      "    self._validate_new_param_value(\n",
      "  File \"/opt/conda/envs/qlib/lib/python3.8/site-packages/mlflow/store/tracking/file_store.py\", line 975, in _validate_new_param_value\n",
      "    raise MlflowException(\n",
      "mlflow.exceptions.MlflowException: Changing param values is not allowed. Param with key='cmd-sys.argv' was already logged with value='/opt/conda/envs/qlib/lib/python3.8/site-packages/ipykernel_launcher.py --f=/home/codespace/.local/share/jupyter/runtime/kernel-v2-342QGGl6RadkAI2.json' for run ID='05eee8f1acc94d1280152e884d344dad'. Attempted logging new value '/opt/conda/envs/qlib/lib/python3.8/site-packages/ipykernel_launcher.py --f=/home/codespace/.local/share/jupyter/runtime/kernel-v2-342UAVg7eA7c6e1.json'.\n",
      "\n",
      "During handling of the above exception, another exception occurred:\n",
      "\n",
      "Traceback (most recent call last):\n",
      "  File \"/opt/conda/envs/qlib/lib/python3.8/threading.py\", line 932, in _bootstrap_inner\n",
      "    self.run()\n",
      "  File \"/opt/conda/envs/qlib/lib/python3.8/threading.py\", line 870, in run\n",
      "    self._target(*self._args, **self._kwargs)\n",
      "  File \"/workspaces/Portfolio-Leveraging-Differentiable-Layer/qlib/qlib/utils/paral.py\", line 91, in run\n",
      "    data()\n",
      "  File \"/workspaces/Portfolio-Leveraging-Differentiable-Layer/qlib/qlib/workflow/recorder.py\", line 444, in log_params\n",
      "    self.client.log_param(self.id, name, data)\n",
      "  File \"/opt/conda/envs/qlib/lib/python3.8/site-packages/mlflow/tracking/client.py\", line 806, in log_param\n",
      "    self._tracking_client.log_param(run_id, key, value)\n",
      "  File \"/opt/conda/envs/qlib/lib/python3.8/site-packages/mlflow/tracking/_tracking_service/client.py\", line 301, in log_param\n",
      "    raise MlflowException(msg, INVALID_PARAMETER_VALUE)\n",
      "mlflow.exceptions.MlflowException: Changing param values is not allowed. Param with key='cmd-sys.argv' was already logged with value='/opt/conda/envs/qlib/lib/python3.8/site-packages/ipykernel_launcher.py --f=/home/codespace/.local/share/jupyter/runtime/kernel-v2-342QGGl6RadkAI2.json' for run ID='05eee8f1acc94d1280152e884d344dad'. Attempted logging new value '/opt/conda/envs/qlib/lib/python3.8/site-packages/ipykernel_launcher.py --f=/home/codespace/.local/share/jupyter/runtime/kernel-v2-342UAVg7eA7c6e1.json'.\n",
      "\n",
      "The cause of this error is typically due to repeated calls\n",
      "to an individual run_id event logging.\n",
      "\n",
      "Incorrect Example:\n",
      "---------------------------------------\n",
      "with mlflow.start_run():\n",
      "    mlflow.log_param(\"depth\", 3)\n",
      "    mlflow.log_param(\"depth\", 5)\n",
      "---------------------------------------\n",
      "\n",
      "Which will throw an MlflowException for overwriting a\n",
      "logged parameter.\n",
      "\n",
      "Correct Example:\n",
      "---------------------------------------\n",
      "with mlflow.start_run():\n",
      "    with mlflow.start_run(nested=True):\n",
      "        mlflow.log_param(\"depth\", 3)\n",
      "    with mlflow.start_run(nested=True):\n",
      "        mlflow.log_param(\"depth\", 5)\n",
      "---------------------------------------\n",
      "\n",
      "Which will create a new nested run for each individual\n",
      "model and prevent parameter key collisions within the\n",
      "tracking store.\n",
      "/opt/conda/envs/qlib/lib/python3.8/site-packages/scipy/stats/_stats_py.py:4916: ConstantInputWarning: An input array is constant; the correlation coefficient is not defined.\n",
      "  warnings.warn(stats.ConstantInputWarning(warn_msg))\n",
      "[33612:MainThread](2023-11-21 11:31:45,111) INFO - qlib.backtest caller - [__init__.py:93] - Create new exchange\n"
     ]
    },
    {
     "name": "stdout",
     "output_type": "stream",
     "text": [
      "{'IC': 0.01894293685644901,\n",
      " 'ICIR': 0.13929638116337453,\n",
      " 'Long-Avg Ann Return': 0.42262878036126494,\n",
      " 'Long-Avg Ann Sharpe': 2.1398666055831317,\n",
      " 'Long-Short Ann Return': 0.10887369003428536,\n",
      " 'Long-Short Ann Sharpe': 1.8776074506257552,\n",
      " 'Rank IC': 0.04259207242290374,\n",
      " 'Rank ICIR': 0.3089255517858425}\n"
     ]
    },
    {
     "name": "stderr",
     "output_type": "stream",
     "text": [
      "[33612:MainThread](2023-11-21 11:31:54,614) WARNING - qlib.online operator - [exchange.py:219] - $close field data contains nan.\n",
      "[33612:MainThread](2023-11-21 11:31:54,615) WARNING - qlib.online operator - [exchange.py:219] - $close field data contains nan.\n",
      "[33612:MainThread](2023-11-21 11:31:54,619) WARNING - qlib.online operator - [exchange.py:226] - factor.day.bin file not exists or factor contains `nan`. Order using adjusted_price.\n",
      "[33612:MainThread](2023-11-21 11:31:54,620) WARNING - qlib.online operator - [exchange.py:228] - trade unit 100 is not supported in adjusted_price mode.\n",
      "[33612:MainThread](2023-11-21 11:31:56,053) WARNING - qlib.BaseExecutor - [executor.py:121] - `common_infra` is not set for <qlib.backtest.executor.SimulatorExecutor object at 0x7f5ed58323a0>\n",
      "backtest loop:   0%|          | 0/244 [00:00<?, ?it/s]/workspaces/Portfolio-Leveraging-Differentiable-Layer/qlib/qlib/utils/index_data.py:482: RuntimeWarning: Mean of empty slice\n",
      "  return np.nanmean(self.data)\n",
      "backtest loop:  31%|███       | 75/244 [00:02<00:05, 30.13it/s]/workspaces/Portfolio-Leveraging-Differentiable-Layer/qlib/qlib/utils/index_data.py:482: RuntimeWarning: Mean of empty slice\n",
      "  return np.nanmean(self.data)\n",
      "/workspaces/Portfolio-Leveraging-Differentiable-Layer/qlib/qlib/utils/index_data.py:482: RuntimeWarning: Mean of empty slice\n",
      "  return np.nanmean(self.data)\n",
      "backtest loop: 100%|██████████| 244/244 [00:08<00:00, 29.78it/s]\n",
      "[33612:MainThread](2023-11-21 11:32:05,034) INFO - qlib.workflow - [record_temp.py:506] - Portfolio analysis record 'port_analysis_1day.pkl' has been saved as the artifact of the Experiment 466892454790696298\n",
      "[33612:MainThread](2023-11-21 11:32:05,043) INFO - qlib.workflow - [record_temp.py:531] - Indicator analysis record 'indicator_analysis_1day.pkl' has been saved as the artifact of the Experiment 466892454790696298\n",
      "[33612:MainThread](2023-11-21 11:32:05,044) INFO - qlib.timer - [log.py:128] - Time cost: 0.000s | waiting `async_log` Done\n"
     ]
    },
    {
     "name": "stdout",
     "output_type": "stream",
     "text": [
      "'The following are analysis results of benchmark return(1day).'\n",
      "                       risk\n",
      "mean               0.001341\n",
      "std                0.012507\n",
      "annualized_return  0.319108\n",
      "information_ratio  1.653894\n",
      "max_drawdown      -0.140285\n",
      "'The following are analysis results of the excess return without cost(1day).'\n",
      "                       risk\n",
      "mean               0.000339\n",
      "std                0.004497\n",
      "annualized_return  0.080709\n",
      "information_ratio  1.163375\n",
      "max_drawdown      -0.049059\n",
      "'The following are analysis results of the excess return with cost(1day).'\n",
      "                       risk\n",
      "mean              -0.000823\n",
      "std                0.004503\n",
      "annualized_return -0.195838\n",
      "information_ratio -2.818832\n",
      "max_drawdown      -0.236795\n",
      "'The following are analysis results of indicators(1day).'\n",
      "     value\n",
      "ffr    1.0\n",
      "pa     0.0\n",
      "pos    0.0\n"
     ]
    }
   ],
   "source": [
    "port_analysis_config2 = {\n",
    "    \"executor\": {\n",
    "        \"class\": \"SimulatorExecutor\",\n",
    "        \"module_path\": \"qlib.backtest.executor\",\n",
    "        \"kwargs\": {\n",
    "            \"time_per_step\": \"day\",\n",
    "            \"generate_portfolio_metrics\": True,\n",
    "        },\n",
    "    },\n",
    "    \"strategy\": {\n",
    "        \"class\": \"TopkDropoutStrategy\",\n",
    "        \"module_path\": \"qlib.contrib.strategy.signal_strategy\",\n",
    "        \"kwargs\": {\n",
    "            \"signal\": \"<PRED>\",\n",
    "            \"topk\": 50,\n",
    "            \"n_drop\": 50,\n",
    "        },\n",
    "    },\n",
    "    \"backtest\": {\n",
    "        \"start_time\": \"2019-01-01\",\n",
    "        \"end_time\": \"2019-12-31\",\n",
    "        \"account\": 100000000,\n",
    "        \"benchmark\": \"SH000300\",\n",
    "        \"exchange_kwargs\": {\n",
    "            \"freq\": \"day\",\n",
    "            \"limit_threshold\": 0.095,\n",
    "            \"deal_price\": \"close\",\n",
    "            \"open_cost\": 0.0005,\n",
    "            \"close_cost\": 0.0015,\n",
    "            \"min_cost\": 5,\n",
    "        },\n",
    "    },\n",
    "}\n",
    "\n",
    "# backtest and analysis\n",
    "with R.start(experiment_name=EXP_NAME, recorder_id=rid, resume=True):\n",
    "    # signal-based analysis\n",
    "    rec2 = R.get_recorder()\n",
    "    sar2 = SigAnaRecord(rec,ana_long_short=True)\n",
    "    sar2.generate()\n",
    "\n",
    "    #  portfolio-based analysis: backtest\n",
    "    par2 = PortAnaRecord(rec, port_analysis_config2, \"day\")\n",
    "    par2.generate()"
   ]
  },
  {
   "cell_type": "code",
   "execution_count": null,
   "metadata": {},
   "outputs": [],
   "source": []
  }
 ],
 "metadata": {
  "kernelspec": {
   "display_name": "qlib",
   "language": "python",
   "name": "python3"
  },
  "language_info": {
   "codemirror_mode": {
    "name": "ipython",
    "version": 3
   },
   "file_extension": ".py",
   "mimetype": "text/x-python",
   "name": "python",
   "nbconvert_exporter": "python",
   "pygments_lexer": "ipython3",
   "version": "3.8.18"
  }
 },
 "nbformat": 4,
 "nbformat_minor": 2
}
